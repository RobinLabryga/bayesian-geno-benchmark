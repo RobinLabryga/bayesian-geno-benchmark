{
 "cells": [
  {
   "cell_type": "code",
   "execution_count": null,
   "metadata": {},
   "outputs": [],
   "source": [
    "import os\n",
    "from sys import platform\n",
    "\n",
    "os.environ[\"ARCHDEFS\"] = f\"{os.path.abspath(os.getcwd())}/CUTEst/ARCHDefs\"\n",
    "os.environ[\"SIFDECODE\"] = f\"{os.path.abspath(os.getcwd())}/CUTEst/SIFDecode\"\n",
    "os.environ[\"MASTSIF\"] = f\"{os.path.abspath(os.getcwd())}/CUTEst/sif\"\n",
    "os.environ[\"CUTEST\"] = f\"{os.path.abspath(os.getcwd())}/CUTEst/CUTEst\"\n",
    "# os.environ[\"PYCUTEST_CACHE\"] = (\n",
    "#     f\"{os.path.abspath(os.getcwd())}/pycutest_cache_holder/\"\n",
    "# )\n",
    "\n",
    "if platform == \"linux\" or platform == \"linux2\":\n",
    "    # linux\n",
    "    os.environ[\"MYARCH\"] = \"pc64.lnx.gfo\"\n",
    "elif platform == \"darwin\":\n",
    "    # OS X\n",
    "    os.environ[\"MYARCH\"] = \"mac64.osx.gfo\"\n",
    "elif platform == \"win32\":\n",
    "    # Windows...\n",
    "    pass\n",
    "\n",
    "import pycutest"
   ]
  },
  {
   "cell_type": "code",
   "execution_count": null,
   "metadata": {},
   "outputs": [],
   "source": [
    "%run -i main.py --solver_config ./solved/IpoptSolver.yml --problem_config ./solved/test_some.yml --timeout 120 --single_fig_per_f_over_time --barplots_cnt 10 --result_dir notebook"
   ]
  },
  {
   "cell_type": "code",
   "execution_count": null,
   "metadata": {},
   "outputs": [],
   "source": [
    "%run -i show_dataframe.py -f results/notebook/results.pkl"
   ]
  }
 ],
 "metadata": {
  "kernelspec": {
   "display_name": "Python 3",
   "language": "python",
   "name": "python3"
  },
  "language_info": {
   "codemirror_mode": {
    "name": "ipython",
    "version": 3
   },
   "file_extension": ".py",
   "mimetype": "text/x-python",
   "name": "python",
   "nbconvert_exporter": "python",
   "pygments_lexer": "ipython3",
   "version": "3.10.12"
  }
 },
 "nbformat": 4,
 "nbformat_minor": 2
}
