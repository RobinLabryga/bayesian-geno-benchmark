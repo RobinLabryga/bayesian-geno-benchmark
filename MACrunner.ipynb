{
 "cells": [
  {
   "cell_type": "code",
   "execution_count": null,
   "metadata": {},
   "outputs": [],
   "source": [
    "!pip install pycutest"
   ]
  },
  {
   "cell_type": "code",
   "execution_count": null,
   "metadata": {},
   "outputs": [],
   "source": [
    "import os\n",
    "\n",
    "os.environ[\"ARCHDEFS\"] = f\"{os.path.abspath(os.getcwd())}/CUTEst/ARCHDefs\"\n",
    "os.environ[\"SIFDECODE\"] = f\"{os.path.abspath(os.getcwd())}/CUTEst/SIFDecode\"\n",
    "os.environ[\"MASTSIF\"] = f\"{os.path.abspath(os.getcwd())}/CUTEst/sif\"\n",
    "os.environ[\"CUTEST\"] = f\"{os.path.abspath(os.getcwd())}/CUTEst/CUTEst\"\n",
    "os.environ[\"MYARCH\"] = \"mac64.osx.gfo\"\n",
    "# os.environ[\"PYCUTEST_CACHE\"] = (\n",
    "#     f\"{os.path.abspath(os.getcwd())}/pycutest_cache_holder/\"\n",
    "# )\n",
    "\n",
    "import pycutest"
   ]
  },
  {
   "cell_type": "code",
   "execution_count": null,
   "metadata": {},
   "outputs": [],
   "source": [
    "!python main.py --config ./solved/test.yml --timeout 60"
   ]
  }
 ],
 "metadata": {
  "kernelspec": {
   "display_name": "Python 3",
   "language": "python",
   "name": "python3"
  },
  "language_info": {
   "codemirror_mode": {
    "name": "ipython",
    "version": 3
   },
   "file_extension": ".py",
   "mimetype": "text/x-python",
   "name": "python",
   "nbconvert_exporter": "python",
   "pygments_lexer": "ipython3",
   "version": "3.12.2"
  }
 },
 "nbformat": 4,
 "nbformat_minor": 2
}
